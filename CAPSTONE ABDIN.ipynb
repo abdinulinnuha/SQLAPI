{
 "cells": [
  {
   "cell_type": "markdown",
   "metadata": {},
   "source": [
    "Berikut adalah Demo Application Program Interface (API)  untuk mengakses database webserver"
   ]
  },
  {
   "cell_type": "code",
   "execution_count": null,
   "metadata": {},
   "outputs": [],
   "source": [
    "# Impor Library yang diperlukan\n",
    "from flask import Flask\n",
    "import requests\n",
    "import pandas as pd\n",
    "import numpy as np\n",
    "import sqlite3\n",
    "import gunicorn"
   ]
  },
  {
   "cell_type": "markdown",
   "metadata": {},
   "source": [
    "database SQL dengan nama chinook.db disimpan di localhost (127.0.0.1) pada folder data dengan method GET\n",
    "API yang digunakan adalah \"/data/get/database_name\"\n",
    "database name dapat diisi dengan \"chinook.db\" atau user dapat memilih database lain jika dalam webserver terdapat lebih dari satu SQL database\n"
   ]
  },
  {
   "cell_type": "markdown",
   "metadata": {},
   "source": [
    "# Struktur SQL database Chinook"
   ]
  },
  {
   "cell_type": "markdown",
   "metadata": {},
   "source": [
    "\n",
    "![](res/database.jpeg)"
   ]
  },
  {
   "cell_type": "markdown",
   "metadata": {},
   "source": [
    "# 1. Akses Semua Table dalam database chinook"
   ]
  },
  {
   "cell_type": "markdown",
   "metadata": {},
   "source": [
    "**API yang digunakan /data/get/chinook.db**"
   ]
  },
  {
   "cell_type": "markdown",
   "metadata": {},
   "source": [
    "![](res/pic1.png)"
   ]
  },
  {
   "cell_type": "code",
   "execution_count": 183,
   "metadata": {},
   "outputs": [
    {
     "data": {
      "text/html": [
       "<div>\n",
       "<style scoped>\n",
       "    .dataframe tbody tr th:only-of-type {\n",
       "        vertical-align: middle;\n",
       "    }\n",
       "\n",
       "    .dataframe tbody tr th {\n",
       "        vertical-align: top;\n",
       "    }\n",
       "\n",
       "    .dataframe thead th {\n",
       "        text-align: right;\n",
       "    }\n",
       "</style>\n",
       "<table border=\"1\" class=\"dataframe\">\n",
       "  <thead>\n",
       "    <tr style=\"text-align: right;\">\n",
       "      <th></th>\n",
       "      <th>bookID</th>\n",
       "      <th>title</th>\n",
       "      <th>authors</th>\n",
       "      <th>average_rating</th>\n",
       "      <th>isbn</th>\n",
       "      <th>isbn13</th>\n",
       "      <th>language_code</th>\n",
       "      <th># num_pages</th>\n",
       "      <th>ratings_count</th>\n",
       "      <th>text_reviews_count</th>\n",
       "    </tr>\n",
       "  </thead>\n",
       "  <tbody>\n",
       "    <tr>\n",
       "      <th>0</th>\n",
       "      <td>1</td>\n",
       "      <td>Harry Potter and the Half-Blood Prince (Harry ...</td>\n",
       "      <td>J.K. Rowling</td>\n",
       "      <td>4.56</td>\n",
       "      <td>0439785960</td>\n",
       "      <td>9780439785969</td>\n",
       "      <td>eng</td>\n",
       "      <td>652</td>\n",
       "      <td>1944099</td>\n",
       "      <td>26249</td>\n",
       "    </tr>\n",
       "    <tr>\n",
       "      <th>1</th>\n",
       "      <td>2</td>\n",
       "      <td>Harry Potter and the Order of the Phoenix (Har...</td>\n",
       "      <td>J.K. Rowling</td>\n",
       "      <td>4.49</td>\n",
       "      <td>0439358078</td>\n",
       "      <td>9780439358071</td>\n",
       "      <td>eng</td>\n",
       "      <td>870</td>\n",
       "      <td>1996446</td>\n",
       "      <td>27613</td>\n",
       "    </tr>\n",
       "    <tr>\n",
       "      <th>2</th>\n",
       "      <td>3</td>\n",
       "      <td>Harry Potter and the Sorcerer's Stone (Harry P...</td>\n",
       "      <td>J.K. Rowling</td>\n",
       "      <td>4.47</td>\n",
       "      <td>0439554934</td>\n",
       "      <td>9780439554930</td>\n",
       "      <td>eng</td>\n",
       "      <td>320</td>\n",
       "      <td>5629932</td>\n",
       "      <td>70390</td>\n",
       "    </tr>\n",
       "    <tr>\n",
       "      <th>3</th>\n",
       "      <td>4</td>\n",
       "      <td>Harry Potter and the Chamber of Secrets (Harry...</td>\n",
       "      <td>J.K. Rowling</td>\n",
       "      <td>4.41</td>\n",
       "      <td>0439554896</td>\n",
       "      <td>9780439554893</td>\n",
       "      <td>eng</td>\n",
       "      <td>352</td>\n",
       "      <td>6267</td>\n",
       "      <td>272</td>\n",
       "    </tr>\n",
       "    <tr>\n",
       "      <th>4</th>\n",
       "      <td>5</td>\n",
       "      <td>Harry Potter and the Prisoner of Azkaban (Harr...</td>\n",
       "      <td>J.K. Rowling</td>\n",
       "      <td>4.55</td>\n",
       "      <td>043965548X</td>\n",
       "      <td>9780439655484</td>\n",
       "      <td>eng</td>\n",
       "      <td>435</td>\n",
       "      <td>2149872</td>\n",
       "      <td>33964</td>\n",
       "    </tr>\n",
       "  </tbody>\n",
       "</table>\n",
       "</div>"
      ],
      "text/plain": [
       "   bookID                                              title       authors  \\\n",
       "0       1  Harry Potter and the Half-Blood Prince (Harry ...  J.K. Rowling   \n",
       "1       2  Harry Potter and the Order of the Phoenix (Har...  J.K. Rowling   \n",
       "2       3  Harry Potter and the Sorcerer's Stone (Harry P...  J.K. Rowling   \n",
       "3       4  Harry Potter and the Chamber of Secrets (Harry...  J.K. Rowling   \n",
       "4       5  Harry Potter and the Prisoner of Azkaban (Harr...  J.K. Rowling   \n",
       "\n",
       "   average_rating        isbn         isbn13 language_code  # num_pages  \\\n",
       "0            4.56  0439785960  9780439785969           eng          652   \n",
       "1            4.49  0439358078  9780439358071           eng          870   \n",
       "2            4.47  0439554934  9780439554930           eng          320   \n",
       "3            4.41  0439554896  9780439554893           eng          352   \n",
       "4            4.55  043965548X  9780439655484           eng          435   \n",
       "\n",
       "   ratings_count  text_reviews_count  \n",
       "0        1944099               26249  \n",
       "1        1996446               27613  \n",
       "2        5629932               70390  \n",
       "3           6267                 272  \n",
       "4        2149872               33964  "
      ]
     },
     "execution_count": 183,
     "metadata": {},
     "output_type": "execute_result"
    }
   ],
   "source": [
    "url1 = 'http://localhost:5000/data/get/books_c.csv'\n",
    "r1 = requests.get(url1)\n",
    "r_pd1 = pd.DataFrame(r1.json())\n",
    "r_pd1.head()"
   ]
  },
  {
   "cell_type": "code",
   "execution_count": 185,
   "metadata": {},
   "outputs": [
    {
     "data": {
      "text/html": [
       "<div>\n",
       "<style scoped>\n",
       "    .dataframe tbody tr th:only-of-type {\n",
       "        vertical-align: middle;\n",
       "    }\n",
       "\n",
       "    .dataframe tbody tr th {\n",
       "        vertical-align: top;\n",
       "    }\n",
       "\n",
       "    .dataframe thead th {\n",
       "        text-align: right;\n",
       "    }\n",
       "</style>\n",
       "<table border=\"1\" class=\"dataframe\">\n",
       "  <thead>\n",
       "    <tr style=\"text-align: right;\">\n",
       "      <th></th>\n",
       "      <th>name</th>\n",
       "    </tr>\n",
       "  </thead>\n",
       "  <tbody>\n",
       "    <tr>\n",
       "      <th>0</th>\n",
       "      <td>albums</td>\n",
       "    </tr>\n",
       "    <tr>\n",
       "      <th>1</th>\n",
       "      <td>artists</td>\n",
       "    </tr>\n",
       "    <tr>\n",
       "      <th>10</th>\n",
       "      <td>tracks</td>\n",
       "    </tr>\n",
       "    <tr>\n",
       "      <th>2</th>\n",
       "      <td>customers</td>\n",
       "    </tr>\n",
       "    <tr>\n",
       "      <th>3</th>\n",
       "      <td>employees</td>\n",
       "    </tr>\n",
       "    <tr>\n",
       "      <th>4</th>\n",
       "      <td>genres</td>\n",
       "    </tr>\n",
       "    <tr>\n",
       "      <th>5</th>\n",
       "      <td>invoices</td>\n",
       "    </tr>\n",
       "    <tr>\n",
       "      <th>6</th>\n",
       "      <td>invoice_items</td>\n",
       "    </tr>\n",
       "    <tr>\n",
       "      <th>7</th>\n",
       "      <td>media_types</td>\n",
       "    </tr>\n",
       "    <tr>\n",
       "      <th>8</th>\n",
       "      <td>playlists</td>\n",
       "    </tr>\n",
       "    <tr>\n",
       "      <th>9</th>\n",
       "      <td>playlist_track</td>\n",
       "    </tr>\n",
       "  </tbody>\n",
       "</table>\n",
       "</div>"
      ],
      "text/plain": [
       "              name\n",
       "0           albums\n",
       "1          artists\n",
       "10          tracks\n",
       "2        customers\n",
       "3        employees\n",
       "4           genres\n",
       "5         invoices\n",
       "6    invoice_items\n",
       "7      media_types\n",
       "8        playlists\n",
       "9   playlist_track"
      ]
     },
     "execution_count": 185,
     "metadata": {},
     "output_type": "execute_result"
    }
   ],
   "source": [
    "url1 = 'http://localhost:5000/data/get/chinook.db'\n",
    "r1 = requests.get(url1)\n",
    "r_pd1 = pd.DataFrame(r1.json())\n",
    "r_pd1"
   ]
  },
  {
   "cell_type": "markdown",
   "metadata": {},
   "source": [
    "# 2 Akses data pada table yang dipilih"
   ]
  },
  {
   "cell_type": "markdown",
   "metadata": {},
   "source": [
    "**API yang digunakan /data/get/chinook.db/-table-**"
   ]
  },
  {
   "cell_type": "markdown",
   "metadata": {},
   "source": [
    "API : /data/get/chinook.db/invoices"
   ]
  },
  {
   "cell_type": "markdown",
   "metadata": {},
   "source": [
    "**Source Code dalam app.py**"
   ]
  },
  {
   "cell_type": "markdown",
   "metadata": {},
   "source": [
    "![](res/pic2.png)"
   ]
  },
  {
   "cell_type": "code",
   "execution_count": null,
   "metadata": {},
   "outputs": [],
   "source": [
    "url2 = 'http://localhost:5000/data/get/chinook.db/invoices'\n",
    "r2 = requests.get(url2)\n",
    "r_pd2 = pd.DataFrame(r2.json())\n",
    "r_pd2"
   ]
  },
  {
   "cell_type": "markdown",
   "metadata": {},
   "source": [
    "Table diatas adalah hasil dari API dengan query pada table \"Invoices\" "
   ]
  },
  {
   "cell_type": "markdown",
   "metadata": {},
   "source": [
    "# 3. Akses data pada table pada spesifik kolom"
   ]
  },
  {
   "cell_type": "markdown",
   "metadata": {},
   "source": [
    "**API yang digunakan /data/get/chinook.db/-table-/-column-**"
   ]
  },
  {
   "cell_type": "markdown",
   "metadata": {},
   "source": [
    "API : /data/get/chinook.db/customers/firstname"
   ]
  },
  {
   "cell_type": "code",
   "execution_count": null,
   "metadata": {},
   "outputs": [],
   "source": [
    "url3 = 'http://localhost:5000/data/get/chinook.db/invoices/BillingCountry'\n",
    "r3 = requests.get(url3)\n",
    "r_pd3 = pd.DataFrame(r3.json())\n",
    "r_pd3"
   ]
  },
  {
   "cell_type": "markdown",
   "metadata": {},
   "source": [
    "Table diatas adalah hasil dari API dengan query pada table **\"Invoices\"** kolom **\"BillingCountry\"**"
   ]
  },
  {
   "cell_type": "markdown",
   "metadata": {},
   "source": [
    "# 4. menggabungkan 2 table (Invoices & Customers) "
   ]
  },
  {
   "cell_type": "markdown",
   "metadata": {},
   "source": [
    "**API yang digunakan /data/get/chinook.db/-table1-/-table2-/-key-**"
   ]
  },
  {
   "cell_type": "markdown",
   "metadata": {},
   "source": [
    "berikut adalah API untuk menggabungkan 2 table (table **Invoices** dan table **Customers**) menngunakan SQL QUERY LEFT JOIN "
   ]
  },
  {
   "cell_type": "markdown",
   "metadata": {},
   "source": [
    "**Source Code dalam app.py**"
   ]
  },
  {
   "cell_type": "markdown",
   "metadata": {},
   "source": [
    "![](res/pic3.png)"
   ]
  },
  {
   "cell_type": "code",
   "execution_count": null,
   "metadata": {},
   "outputs": [],
   "source": [
    "url4 = 'http://localhost:5000/data/get/chinook.db/Invoices/Customers/CustomerId'\n",
    "r4 = requests.get(url4)\n",
    "r_pd4 = pd.DataFrame(r4.json())\n",
    "r_pd4.head(10)"
   ]
  },
  {
   "cell_type": "markdown",
   "metadata": {},
   "source": [
    "# 5. Contoh 1 : API menggabungkan 2 table (Invoices & Customers) dan menampilkannya dalam kolom secara specific "
   ]
  },
  {
   "cell_type": "markdown",
   "metadata": {},
   "source": [
    "**API yang digunakan /data/get/chinook.db/-table1-/-table2-/-key-/-column1-/column2-**"
   ]
  },
  {
   "cell_type": "markdown",
   "metadata": {},
   "source": [
    "Uji Coba Skeleton SQL Query yang akan dijalankan ke dalam pada app.py"
   ]
  },
  {
   "cell_type": "code",
   "execution_count": null,
   "metadata": {},
   "outputs": [],
   "source": [
    "table1 = \"Invoices\"\n",
    "table2 = \"Customers\"\n",
    "key    = \"CustomerId\"\n",
    "column1 = \"FirstName\"\n",
    "column2 = \"Total\"\n",
    "#sql_command = \"SELECT \"+table1+\".\"+column+\" FROM \" +table1+ \" LEFT JOIN \"+table2+\" ON \"+table1+\".\"+key+\"=\"+table2+\".\"+key\n",
    "sql_command = \"SELECT \"+table1+\".\"+column1+\",\"+table1+\".\"+column2+\" FROM \" +table1+ \" LEFT JOIN \"+table2+\" ON \"+table1+\".\"+key+\"=\"+table2+\".\"+key\n",
    "sql_command = str(sql_command)\n",
    "sql_command"
   ]
  },
  {
   "cell_type": "markdown",
   "metadata": {},
   "source": [
    "**Source Code dalam app.py**"
   ]
  },
  {
   "cell_type": "markdown",
   "metadata": {},
   "source": [
    "![](res/pic4.png)"
   ]
  },
  {
   "cell_type": "code",
   "execution_count": null,
   "metadata": {},
   "outputs": [],
   "source": [
    "url5 = 'http://localhost:5000/data/get/chinook.db/Invoices/Customers/CustomerId/BillingAddress/Firstname'\n",
    "r5 = requests.get(url5)\n",
    "r_pd5 = pd.DataFrame(r5.json())\n",
    "r_pd5.head()"
   ]
  },
  {
   "cell_type": "markdown",
   "metadata": {},
   "source": [
    "# 6. Contoh 2 : API untuk mendapatkan kolom Total dan kolom Country"
   ]
  },
  {
   "cell_type": "code",
   "execution_count": null,
   "metadata": {},
   "outputs": [],
   "source": [
    "**API yang digunakan /data/get/chinook.db/-table1-/-table2-/-key-/-column1-/column2-**"
   ]
  },
  {
   "cell_type": "code",
   "execution_count": null,
   "metadata": {},
   "outputs": [],
   "source": [
    "url6 = 'http://localhost:5000/data/get/chinook.db/invoices/customers/CustomerId/Total/Country'\n",
    "r6 = requests.get(url6)\n",
    "r_pd6 = pd.DataFrame(r6.json())\n",
    "r_pd6"
   ]
  },
  {
   "cell_type": "markdown",
   "metadata": {},
   "source": [
    "# 6. API untuk mendapatkan total invoice berdasarkan kolom Country dengan perintah tambahan top5 top10 top15"
   ]
  },
  {
   "cell_type": "markdown",
   "metadata": {},
   "source": [
    "**API yang digunakan /data/get/chinook.db/-table1-/-table2-/-key-/-column1-/column2-/top5 or top10 or top15**"
   ]
  },
  {
   "cell_type": "markdown",
   "metadata": {},
   "source": [
    "Uji Coba Skeleton SQL Query didalam app.py"
   ]
  },
  {
   "cell_type": "code",
   "execution_count": null,
   "metadata": {},
   "outputs": [],
   "source": [
    "table1 = \"invoices\"\n",
    "table2 = \"customers\"\n",
    "key    = \"CustomerId\"\n",
    "column1 = \"Total\"\n",
    "column2 = \"Country\" \n",
    "command = \"10\"\n",
    "\n",
    "sql_command = \"SELECT \"+table1+\".\"+column1+\",\"+table2+\".\"+column2+\" FROM \" \\\n",
    "+table1+ \" LEFT JOIN \"+table2+\" ON \"+table1+\".\"+key+\"=\"+table2+\".\"+key\n",
    "sql_command    "
   ]
  },
  {
   "cell_type": "markdown",
   "metadata": {},
   "source": [
    "**Source Code dalam app.py**"
   ]
  },
  {
   "cell_type": "markdown",
   "metadata": {},
   "source": [
    "![](res/pic5.png)"
   ]
  },
  {
   "cell_type": "code",
   "execution_count": null,
   "metadata": {},
   "outputs": [],
   "source": [
    "url7 = 'http://localhost:5000/data/get/chinook.db/invoices/customers/CustomerId/Total/Country/top5'\n",
    "r7 = requests.get(url7)\n",
    "r_pd7 = pd.DataFrame(r7.json())\n",
    "r_pd7"
   ]
  },
  {
   "cell_type": "code",
   "execution_count": null,
   "metadata": {},
   "outputs": [],
   "source": [
    "url7 = 'http://localhost:5000/data/get/chinook.db/invoices/customers/CustomerId/Total/Country/top15'\n",
    "r7 = requests.get(url7)\n",
    "r_pd7 = pd.DataFrame(r7.json())\n",
    "r_pd7"
   ]
  },
  {
   "cell_type": "markdown",
   "metadata": {},
   "source": [
    "# Demo semua API yang sudah di deploy di webserver"
   ]
  },
  {
   "cell_type": "code",
   "execution_count": 182,
   "metadata": {},
   "outputs": [
    {
     "data": {
      "text/html": [
       "<div>\n",
       "<style scoped>\n",
       "    .dataframe tbody tr th:only-of-type {\n",
       "        vertical-align: middle;\n",
       "    }\n",
       "\n",
       "    .dataframe tbody tr th {\n",
       "        vertical-align: top;\n",
       "    }\n",
       "\n",
       "    .dataframe thead th {\n",
       "        text-align: right;\n",
       "    }\n",
       "</style>\n",
       "<table border=\"1\" class=\"dataframe\">\n",
       "  <thead>\n",
       "    <tr style=\"text-align: right;\">\n",
       "      <th></th>\n",
       "      <th>bookID</th>\n",
       "      <th>title</th>\n",
       "      <th>authors</th>\n",
       "      <th>average_rating</th>\n",
       "      <th>isbn</th>\n",
       "      <th>isbn13</th>\n",
       "      <th>language_code</th>\n",
       "      <th># num_pages</th>\n",
       "      <th>ratings_count</th>\n",
       "      <th>text_reviews_count</th>\n",
       "    </tr>\n",
       "  </thead>\n",
       "  <tbody>\n",
       "    <tr>\n",
       "      <th>0</th>\n",
       "      <td>1</td>\n",
       "      <td>Harry Potter and the Half-Blood Prince (Harry ...</td>\n",
       "      <td>J.K. Rowling</td>\n",
       "      <td>4.56</td>\n",
       "      <td>0439785960</td>\n",
       "      <td>9780439785969</td>\n",
       "      <td>eng</td>\n",
       "      <td>652</td>\n",
       "      <td>1944099</td>\n",
       "      <td>26249</td>\n",
       "    </tr>\n",
       "    <tr>\n",
       "      <th>1</th>\n",
       "      <td>2</td>\n",
       "      <td>Harry Potter and the Order of the Phoenix (Har...</td>\n",
       "      <td>J.K. Rowling</td>\n",
       "      <td>4.49</td>\n",
       "      <td>0439358078</td>\n",
       "      <td>9780439358071</td>\n",
       "      <td>eng</td>\n",
       "      <td>870</td>\n",
       "      <td>1996446</td>\n",
       "      <td>27613</td>\n",
       "    </tr>\n",
       "    <tr>\n",
       "      <th>2</th>\n",
       "      <td>3</td>\n",
       "      <td>Harry Potter and the Sorcerer's Stone (Harry P...</td>\n",
       "      <td>J.K. Rowling</td>\n",
       "      <td>4.47</td>\n",
       "      <td>0439554934</td>\n",
       "      <td>9780439554930</td>\n",
       "      <td>eng</td>\n",
       "      <td>320</td>\n",
       "      <td>5629932</td>\n",
       "      <td>70390</td>\n",
       "    </tr>\n",
       "    <tr>\n",
       "      <th>3</th>\n",
       "      <td>4</td>\n",
       "      <td>Harry Potter and the Chamber of Secrets (Harry...</td>\n",
       "      <td>J.K. Rowling</td>\n",
       "      <td>4.41</td>\n",
       "      <td>0439554896</td>\n",
       "      <td>9780439554893</td>\n",
       "      <td>eng</td>\n",
       "      <td>352</td>\n",
       "      <td>6267</td>\n",
       "      <td>272</td>\n",
       "    </tr>\n",
       "    <tr>\n",
       "      <th>4</th>\n",
       "      <td>5</td>\n",
       "      <td>Harry Potter and the Prisoner of Azkaban (Harr...</td>\n",
       "      <td>J.K. Rowling</td>\n",
       "      <td>4.55</td>\n",
       "      <td>043965548X</td>\n",
       "      <td>9780439655484</td>\n",
       "      <td>eng</td>\n",
       "      <td>435</td>\n",
       "      <td>2149872</td>\n",
       "      <td>33964</td>\n",
       "    </tr>\n",
       "  </tbody>\n",
       "</table>\n",
       "</div>"
      ],
      "text/plain": [
       "   bookID                                              title       authors  \\\n",
       "0       1  Harry Potter and the Half-Blood Prince (Harry ...  J.K. Rowling   \n",
       "1       2  Harry Potter and the Order of the Phoenix (Har...  J.K. Rowling   \n",
       "2       3  Harry Potter and the Sorcerer's Stone (Harry P...  J.K. Rowling   \n",
       "3       4  Harry Potter and the Chamber of Secrets (Harry...  J.K. Rowling   \n",
       "4       5  Harry Potter and the Prisoner of Azkaban (Harr...  J.K. Rowling   \n",
       "\n",
       "   average_rating        isbn         isbn13 language_code  # num_pages  \\\n",
       "0            4.56  0439785960  9780439785969           eng          652   \n",
       "1            4.49  0439358078  9780439358071           eng          870   \n",
       "2            4.47  0439554934  9780439554930           eng          320   \n",
       "3            4.41  0439554896  9780439554893           eng          352   \n",
       "4            4.55  043965548X  9780439655484           eng          435   \n",
       "\n",
       "   ratings_count  text_reviews_count  \n",
       "0        1944099               26249  \n",
       "1        1996446               27613  \n",
       "2        5629932               70390  \n",
       "3           6267                 272  \n",
       "4        2149872               33964  "
      ]
     },
     "execution_count": 182,
     "metadata": {},
     "output_type": "execute_result"
    }
   ],
   "source": [
    "url1 = 'http://localhost:5000/data/get/books_c.csv'\n",
    "r1 = requests.get(url1)\n",
    "r_pd1 = pd.DataFrame(r1.json())\n",
    "r_pd1.head()"
   ]
  },
  {
   "cell_type": "code",
   "execution_count": null,
   "metadata": {},
   "outputs": [],
   "source": [
    "url1 = 'https://sqlapiabdin.herokuapp.com/data/get/books_c.csv'\n",
    "r = requests.get(url1)\n",
    "r_pd = pd.DataFrame(r.json())\n",
    "r_pd.head()"
   ]
  },
  {
   "cell_type": "code",
   "execution_count": null,
   "metadata": {},
   "outputs": [],
   "source": [
    "url1 = 'https://sqlapiabdin.herokuapp.com/data/get/chinook.db'\n",
    "r = requests.get(url1)\n",
    "r_pd = pd.DataFrame(r.json())\n",
    "r_pd.head()"
   ]
  },
  {
   "cell_type": "code",
   "execution_count": null,
   "metadata": {},
   "outputs": [],
   "source": [
    "url2 = 'https://sqlapiabdin.herokuapp.com/data/get/chinook.db/invoices'\n",
    "r = requests.get(url1)\n",
    "r_pd = pd.DataFrame(r.json())\n",
    "r_pd.head()"
   ]
  },
  {
   "cell_type": "code",
   "execution_count": null,
   "metadata": {},
   "outputs": [],
   "source": [
    "url3 = 'https://sqlapiabdin.herokuapp.com/data/get/chinook.db/invoices/BillingCountry'\n",
    "r = requests.get(url1)\n",
    "r_pd = pd.DataFrame(r.json())\n",
    "r_pd.head()"
   ]
  },
  {
   "cell_type": "code",
   "execution_count": null,
   "metadata": {},
   "outputs": [],
   "source": [
    "url4 = 'https://sqlapiabdin.herokuapp.com/data/get/chinook.db/Invoices/Customers/CustomerId'\n",
    "r = requests.get(url1)\n",
    "r_pd = pd.DataFrame(r.json())\n",
    "r_pd.head()"
   ]
  },
  {
   "cell_type": "code",
   "execution_count": null,
   "metadata": {},
   "outputs": [],
   "source": [
    "url5 = 'https://sqlapiabdin.herokuapp.com/data/get/chinook.db/Invoices/Customers/CustomerId/BillingAddress/Firstname'\n",
    "r5 = requests.get(url5)\n",
    "r_pd5 = pd.DataFrame(r5.json())\n",
    "r_pd5.head()"
   ]
  },
  {
   "cell_type": "code",
   "execution_count": null,
   "metadata": {},
   "outputs": [],
   "source": [
    "url6 = 'https://sqlapiabdin.herokuapp.com/data/get/chinook.db/invoices/customers/CustomerId/Total/Country'\n",
    "r6 = requests.get(url6)\n",
    "r_pd6 = pd.DataFrame(r6.json())\n",
    "r_pd6"
   ]
  },
  {
   "cell_type": "code",
   "execution_count": null,
   "metadata": {},
   "outputs": [],
   "source": [
    "url7 = 'https://sqlapiabdin.herokuapp.com/data/get/chinook.db/invoices/customers/CustomerId/Total/Country/top5'\n",
    "r7 = requests.get(url7)\n",
    "r_pd7 = pd.DataFrame(r7.json())\n",
    "r_pd7"
   ]
  },
  {
   "cell_type": "code",
   "execution_count": null,
   "metadata": {},
   "outputs": [],
   "source": [
    "url7 = 'https://sqlapiabdin.herokuapp.com/data/get/chinook.db/invoices/customers/CustomerId/Total/Country/top15'\n",
    "r7 = requests.get(url7)\n",
    "r_pd7 = pd.DataFrame(r7.json())\n",
    "r_pd7"
   ]
  }
 ],
 "metadata": {
  "kernelspec": {
   "display_name": "Python 3",
   "language": "python",
   "name": "python3"
  },
  "language_info": {
   "codemirror_mode": {
    "name": "ipython",
    "version": 3
   },
   "file_extension": ".py",
   "mimetype": "text/x-python",
   "name": "python",
   "nbconvert_exporter": "python",
   "pygments_lexer": "ipython3",
   "version": "3.7.6"
  }
 },
 "nbformat": 4,
 "nbformat_minor": 4
}
