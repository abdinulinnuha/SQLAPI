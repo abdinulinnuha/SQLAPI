{
 "cells": [
  {
   "cell_type": "markdown",
   "metadata": {},
   "source": [
    "Berikut adalah Demo Application Program Interface (API)  untuk mengakses database webserver"
   ]
  },
  {
   "cell_type": "code",
   "execution_count": null,
   "metadata": {},
   "outputs": [],
   "source": [
    "# Impor Library yang diperlukan\n",
    "from flask import Flask\n",
    "import requests\n",
    "import pandas as pd\n",
    "import numpy as np\n",
    "import sqlite3\n",
    "import gunicorn"
   ]
  },
  {
   "cell_type": "markdown",
   "metadata": {},
   "source": [
    "database SQL dengan nama chinook.db disimpan di localhost (127.0.0.1) pada folder data dengan method GET\n",
    "API yang digunakan adalah \"/data/get/database_name\"\n",
    "database name dapat diisi dengan \"chinook.db\" atau user dapat memilih database lain jika dalam webserver terdapat lebih dari satu SQL database\n"
   ]
  },
  {
   "cell_type": "markdown",
   "metadata": {},
   "source": [
    "# Struktur SQL database Chinook"
   ]
  },
  {
   "cell_type": "markdown",
   "metadata": {},
   "source": [
    "\n",
    "![](res/database.jpeg)"
   ]
  },
  {
   "cell_type": "markdown",
   "metadata": {},
   "source": [
    "# 1. Akses Semua Table dalam database chinook"
   ]
  },
  {
   "cell_type": "markdown",
   "metadata": {},
   "source": [
    "**API yang digunakan /data/get/chinook.db**"
   ]
  },
  {
   "cell_type": "markdown",
   "metadata": {},
   "source": [
    "![](res/pic1.png)"
   ]
  },
  {
   "cell_type": "code",
   "execution_count": null,
   "metadata": {},
   "outputs": [],
   "source": [
    "url1 = 'http://localhost:5000/data/get/chinook.db'\n",
    "r1 = requests.get(url1)\n",
    "r_pd1 = pd.DataFrame(r1.json())\n",
    "r_pd1"
   ]
  },
  {
   "cell_type": "markdown",
   "metadata": {},
   "source": [
    "# 2 Akses data pada table yang dipilih"
   ]
  },
  {
   "cell_type": "markdown",
   "metadata": {},
   "source": [
    "**API yang digunakan /data/get/chinook.db/-table-**"
   ]
  },
  {
   "cell_type": "markdown",
   "metadata": {},
   "source": [
    "API : /data/get/chinook.db/invoices"
   ]
  },
  {
   "cell_type": "markdown",
   "metadata": {},
   "source": [
    "**Source Code dalam app.py**"
   ]
  },
  {
   "cell_type": "markdown",
   "metadata": {},
   "source": [
    "![](res/pic2.png)"
   ]
  },
  {
   "cell_type": "code",
   "execution_count": null,
   "metadata": {},
   "outputs": [],
   "source": [
    "url2 = 'http://localhost:5000/data/get/chinook.db/invoices'\n",
    "r2 = requests.get(url2)\n",
    "r_pd2 = pd.DataFrame(r2.json())\n",
    "r_pd2"
   ]
  },
  {
   "cell_type": "markdown",
   "metadata": {},
   "source": [
    "Table diatas adalah hasil dari API dengan query pada table \"Invoices\" "
   ]
  },
  {
   "cell_type": "markdown",
   "metadata": {},
   "source": [
    "# 3. Akses data pada table pada spesifik kolom"
   ]
  },
  {
   "cell_type": "markdown",
   "metadata": {},
   "source": [
    "**API yang digunakan /data/get/chinook.db/-table-/-column-**"
   ]
  },
  {
   "cell_type": "markdown",
   "metadata": {},
   "source": [
    "API : /data/get/chinook.db/customers/firstname"
   ]
  },
  {
   "cell_type": "code",
   "execution_count": null,
   "metadata": {},
   "outputs": [],
   "source": [
    "url3 = 'http://localhost:5000/data/get/chinook.db/invoices/BillingCountry'\n",
    "r3 = requests.get(url3)\n",
    "r_pd3 = pd.DataFrame(r3.json())\n",
    "r_pd3"
   ]
  },
  {
   "cell_type": "markdown",
   "metadata": {},
   "source": [
    "Table diatas adalah hasil dari API dengan query pada table **\"Invoices\"** kolom **\"BillingCountry\"**"
   ]
  },
  {
   "cell_type": "markdown",
   "metadata": {},
   "source": [
    "# 4. menggabungkan 2 table (Invoices & Customers) "
   ]
  },
  {
   "cell_type": "markdown",
   "metadata": {},
   "source": [
    "**API yang digunakan /data/get/chinook.db/-table1-/-table2-/-key-**"
   ]
  },
  {
   "cell_type": "markdown",
   "metadata": {},
   "source": [
    "berikut adalah API untuk menggabungkan 2 table (table **Invoices** dan table **Customers**) menngunakan SQL QUERY LEFT JOIN "
   ]
  },
  {
   "cell_type": "markdown",
   "metadata": {},
   "source": [
    "**Source Code dalam app.py**"
   ]
  },
  {
   "cell_type": "markdown",
   "metadata": {},
   "source": [
    "![](res/pic3.png)"
   ]
  },
  {
   "cell_type": "code",
   "execution_count": null,
   "metadata": {},
   "outputs": [],
   "source": [
    "url4 = 'http://localhost:5000/data/get/chinook.db/Invoices/Customers/CustomerId'\n",
    "r4 = requests.get(url4)\n",
    "r_pd4 = pd.DataFrame(r4.json())\n",
    "r_pd4.head(10)"
   ]
  },
  {
   "cell_type": "markdown",
   "metadata": {},
   "source": [
    "# 5. Contoh 1 : API menggabungkan 2 table (Invoices & Customers) dan menampilkannya dalam kolom secara specific "
   ]
  },
  {
   "cell_type": "markdown",
   "metadata": {},
   "source": [
    "**API yang digunakan /data/get/chinook.db/-table1-/-table2-/-key-/-column1-/column2-**"
   ]
  },
  {
   "cell_type": "markdown",
   "metadata": {},
   "source": [
    "Uji Coba Skeleton SQL Query yang akan dijalankan ke dalam pada app.py"
   ]
  },
  {
   "cell_type": "code",
   "execution_count": null,
   "metadata": {},
   "outputs": [],
   "source": [
    "table1 = \"Invoices\"\n",
    "table2 = \"Customers\"\n",
    "key    = \"CustomerId\"\n",
    "column1 = \"FirstName\"\n",
    "column2 = \"Total\"\n",
    "#sql_command = \"SELECT \"+table1+\".\"+column+\" FROM \" +table1+ \" LEFT JOIN \"+table2+\" ON \"+table1+\".\"+key+\"=\"+table2+\".\"+key\n",
    "sql_command = \"SELECT \"+table1+\".\"+column1+\",\"+table1+\".\"+column2+\" FROM \" +table1+ \" LEFT JOIN \"+table2+\" ON \"+table1+\".\"+key+\"=\"+table2+\".\"+key\n",
    "sql_command = str(sql_command)\n",
    "sql_command"
   ]
  },
  {
   "cell_type": "markdown",
   "metadata": {},
   "source": [
    "**Source Code dalam app.py**"
   ]
  },
  {
   "cell_type": "markdown",
   "metadata": {},
   "source": [
    "![](res/pic4.png)"
   ]
  },
  {
   "cell_type": "code",
   "execution_count": null,
   "metadata": {},
   "outputs": [],
   "source": [
    "url5 = 'http://localhost:5000/data/get/chinook.db/Invoices/Customers/CustomerId/BillingAddress/Firstname'\n",
    "r5 = requests.get(url5)\n",
    "r_pd5 = pd.DataFrame(r5.json())\n",
    "r_pd5.head()"
   ]
  },
  {
   "cell_type": "markdown",
   "metadata": {},
   "source": [
    "# 6. Contoh 2 : API untuk mendapatkan kolom Total dan kolom Country"
   ]
  },
  {
   "cell_type": "code",
   "execution_count": null,
   "metadata": {},
   "outputs": [],
   "source": [
    "**API yang digunakan /data/get/chinook.db/-table1-/-table2-/-key-/-column1-/column2-**"
   ]
  },
  {
   "cell_type": "code",
   "execution_count": null,
   "metadata": {},
   "outputs": [],
   "source": [
    "url6 = 'http://localhost:5000/data/get/chinook.db/invoices/customers/CustomerId/Total/Country'\n",
    "r6 = requests.get(url6)\n",
    "r_pd6 = pd.DataFrame(r6.json())\n",
    "r_pd6"
   ]
  },
  {
   "cell_type": "markdown",
   "metadata": {},
   "source": [
    "# 6. API untuk mendapatkan total invoice berdasarkan kolom Country dengan perintah tambahan top5 top10 top15"
   ]
  },
  {
   "cell_type": "markdown",
   "metadata": {},
   "source": [
    "**API yang digunakan /data/get/chinook.db/-table1-/-table2-/-key-/-column1-/column2-/top5 or top10 or top15**"
   ]
  },
  {
   "cell_type": "markdown",
   "metadata": {},
   "source": [
    "Uji Coba Skeleton SQL Query didalam app.py"
   ]
  },
  {
   "cell_type": "code",
   "execution_count": null,
   "metadata": {},
   "outputs": [],
   "source": [
    "table1 = \"invoices\"\n",
    "table2 = \"customers\"\n",
    "key    = \"CustomerId\"\n",
    "column1 = \"Total\"\n",
    "column2 = \"Country\" \n",
    "command = \"10\"\n",
    "\n",
    "sql_command = \"SELECT \"+table1+\".\"+column1+\",\"+table2+\".\"+column2+\" FROM \" \\\n",
    "+table1+ \" LEFT JOIN \"+table2+\" ON \"+table1+\".\"+key+\"=\"+table2+\".\"+key\n",
    "sql_command    "
   ]
  },
  {
   "cell_type": "markdown",
   "metadata": {},
   "source": [
    "**Source Code dalam app.py**"
   ]
  },
  {
   "cell_type": "markdown",
   "metadata": {},
   "source": [
    "![](res/pic5.png)"
   ]
  },
  {
   "cell_type": "code",
   "execution_count": null,
   "metadata": {},
   "outputs": [],
   "source": [
    "url7 = 'http://localhost:5000/data/get/chinook.db/invoices/customers/CustomerId/Total/Country/top5'\n",
    "r7 = requests.get(url7)\n",
    "r_pd7 = pd.DataFrame(r7.json())\n",
    "r_pd7"
   ]
  },
  {
   "cell_type": "code",
   "execution_count": null,
   "metadata": {},
   "outputs": [],
   "source": [
    "url7 = 'http://localhost:5000/data/get/chinook.db/invoices/customers/CustomerId/Total/Country/top15'\n",
    "r7 = requests.get(url7)\n",
    "r_pd7 = pd.DataFrame(r7.json())\n",
    "r_pd7"
   ]
  },
  {
   "cell_type": "markdown",
   "metadata": {},
   "source": [
    "# Demo semua API yang sudah di deploy di webserver"
   ]
  },
  {
   "cell_type": "code",
   "execution_count": null,
   "metadata": {},
   "outputs": [],
   "source": [
    "url1 = 'https://sqlapiabdin.herokuapp.com/data/get/chinook.db'\n",
    "r = requests.get(url1)\n",
    "r_pd = pd.DataFrame(r.json())\n",
    "r_pd.head()"
   ]
  },
  {
   "cell_type": "code",
   "execution_count": null,
   "metadata": {},
   "outputs": [],
   "source": [
    "url2 = 'https://sqlapiabdin.herokuapp.com/data/get/chinook.db/invoices'\n",
    "r = requests.get(url1)\n",
    "r_pd = pd.DataFrame(r.json())\n",
    "r_pd.head()"
   ]
  },
  {
   "cell_type": "code",
   "execution_count": null,
   "metadata": {},
   "outputs": [],
   "source": [
    "url3 = 'https://abdinsql.herokuapp.com/data/get/chinook.db/invoices/BillingCountry'\n",
    "r = requests.get(url1)\n",
    "r_pd = pd.DataFrame(r.json())\n",
    "r_pd.head()"
   ]
  },
  {
   "cell_type": "code",
   "execution_count": null,
   "metadata": {},
   "outputs": [],
   "source": [
    "url4 = 'https://abdinsql.herokuapp.com/data/get/chinook.db/Invoices/Customers/CustomerId'\n",
    "r = requests.get(url1)\n",
    "r_pd = pd.DataFrame(r.json())\n",
    "r_pd.head()"
   ]
  },
  {
   "cell_type": "code",
   "execution_count": null,
   "metadata": {},
   "outputs": [],
   "source": [
    "url5 = 'https://abdinsql.herokuapp.com/data/get/chinook.db/Invoices/Customers/CustomerId/BillingAddress/Firstname'\n",
    "r5 = requests.get(url5)\n",
    "r_pd5 = pd.DataFrame(r5.json())\n",
    "r_pd5.head()"
   ]
  },
  {
   "cell_type": "code",
   "execution_count": null,
   "metadata": {},
   "outputs": [],
   "source": [
    "url6 = 'https://abdinsql.herokuapp.com/data/get/chinook.db/invoices/customers/CustomerId/Total/Country'\n",
    "r6 = requests.get(url6)\n",
    "r_pd6 = pd.DataFrame(r6.json())\n",
    "r_pd6"
   ]
  },
  {
   "cell_type": "code",
   "execution_count": null,
   "metadata": {},
   "outputs": [],
   "source": [
    "url7 = 'https://abdinsql.herokuapp.com/data/get/chinook.db/invoices/customers/CustomerId/Total/Country/top5'\n",
    "r7 = requests.get(url7)\n",
    "r_pd7 = pd.DataFrame(r7.json())\n",
    "r_pd7"
   ]
  },
  {
   "cell_type": "code",
   "execution_count": null,
   "metadata": {},
   "outputs": [],
   "source": [
    "url7 = 'https://abdinsql.herokuapp.com/data/get/chinook.db/invoices/customers/CustomerId/Total/Country/top15'\n",
    "r7 = requests.get(url7)\n",
    "r_pd7 = pd.DataFrame(r7.json())\n",
    "r_pd7"
   ]
  }
 ],
 "metadata": {
  "kernelspec": {
   "display_name": "Python 3",
   "language": "python",
   "name": "python3"
  },
  "language_info": {
   "codemirror_mode": {
    "name": "ipython",
    "version": 3
   },
   "file_extension": ".py",
   "mimetype": "text/x-python",
   "name": "python",
   "nbconvert_exporter": "python",
   "pygments_lexer": "ipython3",
   "version": "3.7.6"
  }
 },
 "nbformat": 4,
 "nbformat_minor": 4
}
